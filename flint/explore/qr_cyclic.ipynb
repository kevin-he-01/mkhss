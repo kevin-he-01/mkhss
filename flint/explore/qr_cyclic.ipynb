{
 "cells": [
  {
   "cell_type": "code",
   "execution_count": 1,
   "id": "e6e2350a",
   "metadata": {},
   "outputs": [],
   "source": [
    "from sage.all import *"
   ]
  },
  {
   "cell_type": "code",
   "execution_count": 20,
   "id": "f19e0308",
   "metadata": {},
   "outputs": [],
   "source": [
    "p = 47\n",
    "q = 59\n",
    "N = p * q\n",
    "# Product of safe primes\n",
    "G_RSA = Integers(N)\n",
    "G_Paillier = Integers(N * N)"
   ]
  },
  {
   "cell_type": "code",
   "execution_count": 41,
   "id": "ff5f452c",
   "metadata": {},
   "outputs": [
    {
     "name": "stdout",
     "output_type": "stream",
     "text": [
      "1849591 1849591\n",
      "1849591 1849591\n",
      "80417 1849591\n",
      "1849591 1849591\n",
      "1849591 1849591\n",
      "1849591 1849591\n",
      "1849591 1849591\n",
      "1849591 1849591\n",
      "1849591 1849591\n"
     ]
    }
   ],
   "source": [
    "for _ in range(10):\n",
    "    # Generate a random element in G_RSA\n",
    "    x = G_Paillier.random_element()\n",
    "    # x = G_Paillier(N + 1)\n",
    "    # x = x ** N\n",
    "    if gcd(x, N * N) != 1:\n",
    "        continue\n",
    "    x2 = x ** 2\n",
    "    print(x2.multiplicative_order(), N*(p-1)*(q-1)//4)"
   ]
  },
  {
   "cell_type": "code",
   "execution_count": 28,
   "id": "8a80fa1a",
   "metadata": {},
   "outputs": [
    {
     "name": "stdout",
     "output_type": "stream",
     "text": [
      "667 667\n",
      "667 667\n",
      "667 667\n",
      "667 667\n",
      "667 667\n",
      "667 667\n",
      "667 667\n",
      "667 667\n",
      "23 667\n",
      "667 667\n"
     ]
    }
   ],
   "source": [
    "for _ in range(10):\n",
    "    # Generate a random element in G_RSA\n",
    "    x = G_RSA.random_element()\n",
    "    if gcd(x, N) != 1:\n",
    "        continue\n",
    "    x2 = x ** 2\n",
    "    print(x2.multiplicative_order(), (p-1)*(q-1)//4)"
   ]
  }
 ],
 "metadata": {
  "kernelspec": {
   "display_name": "sagemath",
   "language": "python",
   "name": "python3"
  },
  "language_info": {
   "codemirror_mode": {
    "name": "ipython",
    "version": 3
   },
   "file_extension": ".py",
   "mimetype": "text/x-python",
   "name": "python",
   "nbconvert_exporter": "python",
   "pygments_lexer": "ipython3",
   "version": "3.10.16"
  }
 },
 "nbformat": 4,
 "nbformat_minor": 5
}
